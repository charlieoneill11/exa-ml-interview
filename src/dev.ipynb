{
 "cells": [
  {
   "cell_type": "code",
   "execution_count": 3,
   "metadata": {},
   "outputs": [
    {
     "name": "stderr",
     "output_type": "stream",
     "text": [
      "/Users/charlesoneill/miniconda3/envs/exa/lib/python3.12/site-packages/tqdm/auto.py:21: TqdmWarning: IProgress not found. Please update jupyter and ipywidgets. See https://ipywidgets.readthedocs.io/en/stable/user_install.html\n",
      "  from .autonotebook import tqdm as notebook_tqdm\n"
     ]
    }
   ],
   "source": [
    "from datasets import load_dataset\n",
    "from typing import List\n",
    "import random\n",
    "from dataclasses import dataclass\n",
    "import time\n",
    "\n",
    "@dataclass\n",
    "class Result:\n",
    "    document_id: str\n",
    "    document_text: str\n",
    "    score: float\n",
    "\n",
    "class RandomRetriever:\n",
    "    def __init__(self, corpus):\n",
    "        self.corpus = corpus\n",
    "\n",
    "    def search(self, query: str, k: int) -> List[Result]:\n",
    "        results = random.sample(list(self.corpus.items()), k)\n",
    "        return [Result(doc_id, text, random.random()) for doc_id, text in results]\n",
    "\n",
    "def evaluate_retriever(retriever, queries, corpus, k=1, num_queries=1000):\n",
    "    correct = 0\n",
    "    total_time = 0\n",
    "\n",
    "    for query, relevant_docs in queries[:num_queries]:\n",
    "        start_time = time.time()\n",
    "        results = retriever.search(query, k)\n",
    "        end_time = time.time()\n",
    "\n",
    "        total_time += end_time - start_time\n",
    "\n",
    "        if any(result.document_id in relevant_docs for result in results):\n",
    "            correct += 1\n",
    "\n",
    "    recall_at_k = correct / num_queries\n",
    "    avg_time = total_time / num_queries\n",
    "\n",
    "    return recall_at_k, avg_time"
   ]
  },
  {
   "cell_type": "code",
   "execution_count": 12,
   "metadata": {},
   "outputs": [
    {
     "name": "stderr",
     "output_type": "stream",
     "text": [
      "Downloading data: 100%|██████████| 18.7M/18.7M [00:01<00:00, 10.9MB/s]\n",
      "Downloading data: 100%|██████████| 265k/265k [00:00<00:00, 1.46MB/s]\n",
      "Downloading data: 100%|██████████| 292k/292k [00:00<00:00, 1.04MB/s]\n",
      "Generating train split: 100%|██████████| 284212/284212 [00:00<00:00, 6649958.32 examples/s]\n",
      "Generating dev split: 100%|██████████| 4009/4009 [00:00<00:00, 1416474.16 examples/s]\n",
      "Generating dev2 split: 100%|██████████| 4411/4411 [00:00<00:00, 1694547.99 examples/s]\n"
     ]
    }
   ],
   "source": [
    "# load datasets\n",
    "corpus = load_dataset(\"mteb/msmarco-v2\", \"corpus\")\n",
    "queries = load_dataset(\"mteb/msmarco-v2\", \"queries\")\n",
    "default = load_dataset(\"mteb/msmarco-v2\", \"default\")"
   ]
  },
  {
   "cell_type": "code",
   "execution_count": 13,
   "metadata": {},
   "outputs": [
    {
     "data": {
      "text/plain": [
       "DatasetDict({\n",
       "    train: Dataset({\n",
       "        features: ['query-id', 'corpus-id', 'score'],\n",
       "        num_rows: 284212\n",
       "    })\n",
       "    dev: Dataset({\n",
       "        features: ['query-id', 'corpus-id', 'score'],\n",
       "        num_rows: 4009\n",
       "    })\n",
       "    dev2: Dataset({\n",
       "        features: ['query-id', 'corpus-id', 'score'],\n",
       "        num_rows: 4411\n",
       "    })\n",
       "})"
      ]
     },
     "execution_count": 13,
     "metadata": {},
     "output_type": "execute_result"
    }
   ],
   "source": [
    "default"
   ]
  },
  {
   "cell_type": "code",
   "execution_count": 10,
   "metadata": {},
   "outputs": [
    {
     "data": {
      "text/plain": [
       "DatasetDict({\n",
       "    corpus: Dataset({\n",
       "        features: ['_id', 'title', 'text'],\n",
       "        num_rows: 138364198\n",
       "    })\n",
       "})"
      ]
     },
     "execution_count": 10,
     "metadata": {},
     "output_type": "execute_result"
    }
   ],
   "source": [
    "corpus"
   ]
  },
  {
   "cell_type": "code",
   "execution_count": 11,
   "metadata": {},
   "outputs": [
    {
     "data": {
      "text/plain": [
       "DatasetDict({\n",
       "    queries: Dataset({\n",
       "        features: ['_id', 'text'],\n",
       "        num_rows: 285328\n",
       "    })\n",
       "})"
      ]
     },
     "execution_count": 11,
     "metadata": {},
     "output_type": "execute_result"
    }
   ],
   "source": [
    "queries"
   ]
  },
  {
   "cell_type": "code",
   "execution_count": 14,
   "metadata": {},
   "outputs": [
    {
     "name": "stdout",
     "output_type": "stream",
     "text": [
      "Generated and saved 1000 evaluation queries to eval_queries.json\n"
     ]
    }
   ],
   "source": [
    "import json\n",
    "\n",
    "# Get dev set from default dataset\n",
    "dev_set = default['dev']\n",
    "\n",
    "# Create a dictionary of query_id to query_text\n",
    "query_dict = {q['_id']: q['text'] for q in queries['queries']}\n",
    "\n",
    "# Create a list to store our evaluation queries\n",
    "eval_queries = []\n",
    "\n",
    "# Use set for faster lookup\n",
    "used_query_ids = set()\n",
    "\n",
    "# Randomly sample from dev set until we have 1000 unique queries\n",
    "while len(eval_queries) < 1000:\n",
    "    idx = random.randint(0, len(dev_set) - 1)\n",
    "    query_id = dev_set[idx]['query-id']\n",
    "    \n",
    "    if query_id not in used_query_ids and query_id in query_dict:\n",
    "        used_query_ids.add(query_id)\n",
    "        eval_queries.append({\n",
    "            'query_id': query_id,\n",
    "            'query_text': query_dict[query_id],\n",
    "            'relevant_doc_id': dev_set[idx]['corpus-id']\n",
    "        })\n",
    "\n",
    "# Save the evaluation queries to a JSON file\n",
    "with open('eval_queries.json', 'w') as f:\n",
    "    json.dump(eval_queries, f)\n",
    "\n",
    "print(f\"Generated and saved {len(eval_queries)} evaluation queries to eval_queries.json\")"
   ]
  },
  {
   "cell_type": "markdown",
   "metadata": {},
   "source": [
    "## Simple bi-encoder"
   ]
  },
  {
   "cell_type": "code",
   "execution_count": null,
   "metadata": {},
   "outputs": [],
   "source": [
    "import torch\n",
    "import torch.nn as nn\n",
    "import torch.optim as optim\n",
    "from transformers import BertTokenizerFast, BertModel\n",
    "import torch.nn.functional as F\n",
    "from datasets import load_dataset\n",
    "import random\n",
    "import json\n",
    "\n",
    "# Set device and random seed\n",
    "device = torch.device(\"cuda\" if torch.cuda.is_available() else \"cpu\")\n",
    "torch.manual_seed(0)\n",
    "\n",
    "# Constants\n",
    "BATCH_SIZE = 10\n",
    "TRAIN_FRACTION = 0.01\n",
    "ACCURACY_INTERVAL = 10\n",
    "\n",
    "class BiEncoder(nn.Module):\n",
    "    def __init__(self):\n",
    "        super(BiEncoder, self).__init__()\n",
    "        self.bert = BertModel.from_pretrained('prajjwal1/bert-tiny')\n",
    "\n",
    "    def forward(self, input_ids, attention_mask):\n",
    "        outputs = self.bert(input_ids=input_ids, attention_mask=attention_mask)\n",
    "        return F.normalize(outputs.pooler_output, p=2, dim=1)\n",
    "\n",
    "def load_and_prepare_data():\n",
    "    corpus = load_dataset(\"mteb/msmarco-v2\", \"corpus\")\n",
    "    queries = load_dataset(\"mteb/msmarco-v2\", \"queries\")\n",
    "    default = load_dataset(\"mteb/msmarco-v2\", \"default\")\n",
    "\n",
    "    # Create a mapping of query_id to query_text\n",
    "    query_dict = {q['_id']: q['text'] for q in queries['queries']}\n",
    "    \n",
    "    # Create a mapping of document_id to document_text\n",
    "    doc_dict = {d['_id']: d['text'] for d in corpus['corpus']}\n",
    "\n",
    "    # Prepare training data\n",
    "    train_data = []\n",
    "    for item in default['train']:\n",
    "        if item['query-id'] in query_dict and item['corpus-id'] in doc_dict:\n",
    "            train_data.append({\n",
    "                'query': query_dict[item['query-id']],\n",
    "                'positive': doc_dict[item['corpus-id']],\n",
    "                'negatives': [doc_dict[random.choice(list(doc_dict.keys()))] for _ in range(3)]  # 3 random negatives\n",
    "            })\n",
    "\n",
    "    # Use only 1% of the data\n",
    "    train_data = random.sample(train_data, int(len(train_data) * TRAIN_FRACTION))\n",
    "\n",
    "    return train_data\n",
    "\n",
    "def tokenize_batch(batch, tokenizer):\n",
    "    queries = tokenizer([item['query'] for item in batch], padding=True, truncation=True, return_tensors='pt')\n",
    "    positives = tokenizer([item['positive'] for item in batch], padding=True, truncation=True, return_tensors='pt')\n",
    "    negatives = tokenizer([neg for item in batch for neg in item['negatives']], padding=True, truncation=True, return_tensors='pt')\n",
    "\n",
    "    return {\n",
    "        'queries': {k: v.to(device) for k, v in queries.items()},\n",
    "        'positives': {k: v.to(device) for k, v in positives.items()},\n",
    "        'negatives': {k: v.reshape(len(batch), -1, v.shape[-1]).to(device) for k, v in negatives.items()}\n",
    "    }\n",
    "\n",
    "def cross_entropy_loss(similarities):\n",
    "    return nn.CrossEntropyLoss()(similarities, torch.zeros(similarities.shape[0], dtype=torch.long, device=device))\n",
    "\n",
    "def recall_at_1(similarities):\n",
    "    return (similarities.argmax(dim=1) == 0).float().mean().item()\n",
    "\n",
    "def train_and_evaluate():\n",
    "    model = BiEncoder().to(device)\n",
    "    tokenizer = BertTokenizerFast.from_pretrained('prajjwal1/bert-tiny')\n",
    "    optimizer = optim.Adam(model.parameters(), lr=2e-4)\n",
    "\n",
    "    train_data = load_and_prepare_data()\n",
    "    \n",
    "    losses = []\n",
    "    recalls = []\n",
    "\n",
    "    for epoch in range(3):  # 3 epochs\n",
    "        for i in range(0, len(train_data), BATCH_SIZE):\n",
    "            batch = train_data[i:i+BATCH_SIZE]\n",
    "            tokenized_batch = tokenize_batch(batch, tokenizer)\n",
    "\n",
    "            optimizer.zero_grad()\n",
    "\n",
    "            query_embeddings = model(**tokenized_batch['queries'])\n",
    "            positive_embeddings = model(**tokenized_batch['positives'])\n",
    "            negative_embeddings = model(**tokenized_batch['negatives'])\n",
    "\n",
    "            doc_embeddings = torch.cat([positive_embeddings.unsqueeze(1), negative_embeddings], dim=1)\n",
    "            similarities = torch.bmm(query_embeddings.unsqueeze(1), doc_embeddings.transpose(1, 2)).squeeze(1)\n",
    "\n",
    "            loss = cross_entropy_loss(similarities)\n",
    "            loss.backward()\n",
    "            optimizer.step()\n",
    "\n",
    "            losses.append(loss.item())\n",
    "            recalls.append(recall_at_1(similarities))\n",
    "\n",
    "            if i % (ACCURACY_INTERVAL * BATCH_SIZE) == 0:\n",
    "                avg_loss = sum(losses[-ACCURACY_INTERVAL:]) / min(ACCURACY_INTERVAL, len(losses))\n",
    "                avg_recall = sum(recalls[-ACCURACY_INTERVAL:]) / min(ACCURACY_INTERVAL, len(recalls))\n",
    "                print(f\"Epoch {epoch+1}, Batch {i//BATCH_SIZE}, Loss: {avg_loss:.4f}, Recall@1: {avg_recall:.4f}\")\n",
    "\n",
    "    print(f\"Final Loss: {sum(losses[-100:]) / 100:.4f}, Final Recall@1: {sum(recalls[-100:]) / 100:.4f}\")\n",
    "\n",
    "    return losses, recalls\n",
    "\n",
    "if __name__ == \"__main__\":\n",
    "    losses, recalls = train_and_evaluate()\n",
    "\n",
    "    # You can add plotting code here if needed\n",
    "    # plot(losses, recalls)"
   ]
  }
 ],
 "metadata": {
  "kernelspec": {
   "display_name": "exa",
   "language": "python",
   "name": "python3"
  },
  "language_info": {
   "codemirror_mode": {
    "name": "ipython",
    "version": 3
   },
   "file_extension": ".py",
   "mimetype": "text/x-python",
   "name": "python",
   "nbconvert_exporter": "python",
   "pygments_lexer": "ipython3",
   "version": "3.12.4"
  }
 },
 "nbformat": 4,
 "nbformat_minor": 2
}
